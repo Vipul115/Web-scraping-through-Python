{
 "cells": [
  {
   "cell_type": "code",
   "execution_count": 1,
   "metadata": {
    "collapsed": true
   },
   "outputs": [],
   "source": [
    "from bs4 import BeautifulSoup\n",
    "import requests\n",
    "import pandas as pd\n",
    "import numpy as np"
   ]
  },
  {
   "cell_type": "code",
   "execution_count": 2,
   "metadata": {
    "collapsed": true
   },
   "outputs": [],
   "source": [
    "page = requests.get(\"http://forecast.weather.gov/MapClick.php?lat=48&lon=-98\")\n"
   ]
  },
  {
   "cell_type": "code",
   "execution_count": 3,
   "metadata": {
    "collapsed": true,
    "scrolled": false
   },
   "outputs": [],
   "source": [
    "soup = BeautifulSoup(page.content,'html.parser')\n",
    "seven_day = soup.find(id = 'seven-day-forecast')\n",
    "tombstone = seven_day.find_all(class_ ='tombstone-container')"
   ]
  },
  {
   "cell_type": "code",
   "execution_count": 4,
   "metadata": {},
   "outputs": [
    {
     "name": "stdout",
     "output_type": "stream",
     "text": [
      "Overnight ScatteredFlurries andBlustery Low: -6 °F \n",
      " Overnight: Scattered flurries before 4am.  Partly cloudy, with a steady temperature around -6. Wind chill values as low as -30. Blustery, with a northwest wind 18 to 20 mph, with gusts as high as 28 mph. \n"
     ]
    }
   ],
   "source": [
    "\n",
    "overnight = tombstone[1].find('p',{'class':'period-name'}).get_text()\n",
    "shortdesc = tombstone[1].find(class_ = 'short-desc').get_text()\n",
    "temp = tombstone[1].find(class_ = 'temp').get_text()\n",
    "\n",
    "img = tombstone[1].find(\"img\")['title']\n",
    "\n",
    "print(overnight,shortdesc,temp, \"\\n\", img)"
   ]
  },
  {
   "cell_type": "code",
   "execution_count": 5,
   "metadata": {},
   "outputs": [
    {
     "data": {
      "text/plain": [
       "[<p class=\"period-name\">NOW until<br/>12:00pm Thu</p>,\n",
       " <p class=\"period-name\">Overnight<br/><br/></p>,\n",
       " <p class=\"period-name\">Thursday<br/><br/></p>,\n",
       " <p class=\"period-name\">Thursday<br/>Night</p>,\n",
       " <p class=\"period-name\">Friday<br/><br/></p>,\n",
       " <p class=\"period-name\">Friday<br/>Night</p>,\n",
       " <p class=\"period-name\">Saturday<br/><br/></p>,\n",
       " <p class=\"period-name\">Saturday<br/>Night</p>,\n",
       " <p class=\"period-name\">Sunday<br/><br/></p>]"
      ]
     },
     "execution_count": 5,
     "metadata": {},
     "output_type": "execute_result"
    }
   ],
   "source": [
    "# To distinguish oen tab from other if it ahs multiple attributes like class/id/etc\n",
    "# seven_day.find_all('p',{'class':'period-name','extra':'attributes'})\n",
    "seven_day.find_all('p',{'class':'period-name'})"
   ]
  },
  {
   "cell_type": "code",
   "execution_count": 10,
   "metadata": {},
   "outputs": [
    {
     "name": "stdout",
     "output_type": "stream",
     "text": [
      "9\n",
      "9\n",
      "9\n",
      "9\n"
     ]
    }
   ],
   "source": [
    "periods = seven_day.select(\".period-name\")\n",
    "periods = [days.get_text() for days in periods]\n",
    "short_desc = [sd.get_text() for sd in seven_day.select('.short-desc')]\n",
    "temp = [t.get_text() for t in seven_day.select('.temp')]\n",
    "img_desc = [im['title'] for im in seven_day.select('img')]\n",
    "\n",
    "if(len(temp) == 8):\n",
    "    temp.insert(0, '')\n",
    "print(len(short_desc))\n",
    "print(len(temp))\n",
    "print(len(img_desc))\n",
    "print(len(periods))"
   ]
  },
  {
   "cell_type": "code",
   "execution_count": null,
   "metadata": {
    "collapsed": true
   },
   "outputs": [],
   "source": []
  },
  {
   "cell_type": "code",
   "execution_count": 15,
   "metadata": {
    "scrolled": true
   },
   "outputs": [
    {
     "data": {
      "text/html": [
       "<div>\n",
       "<style>\n",
       "    .dataframe thead tr:only-child th {\n",
       "        text-align: right;\n",
       "    }\n",
       "\n",
       "    .dataframe thead th {\n",
       "        text-align: left;\n",
       "    }\n",
       "\n",
       "    .dataframe tbody tr th {\n",
       "        vertical-align: top;\n",
       "    }\n",
       "</style>\n",
       "<table border=\"1\" class=\"dataframe\">\n",
       "  <thead>\n",
       "    <tr style=\"text-align: right;\">\n",
       "      <th></th>\n",
       "      <th>description</th>\n",
       "      <th>period</th>\n",
       "      <th>short_desc</th>\n",
       "      <th>temperature</th>\n",
       "    </tr>\n",
       "  </thead>\n",
       "  <tbody>\n",
       "    <tr>\n",
       "      <th>0</th>\n",
       "      <td>Overnight: Mostly cloudy, with a low around 47...</td>\n",
       "      <td>Overnight</td>\n",
       "      <td>Mostly Cloudy</td>\n",
       "      <td>Low: 47 °F</td>\n",
       "    </tr>\n",
       "    <tr>\n",
       "      <th>1</th>\n",
       "      <td>Friday: Mostly sunny, with a high near 55. Cal...</td>\n",
       "      <td>Friday</td>\n",
       "      <td>Mostly Sunny</td>\n",
       "      <td>High: 55 °F</td>\n",
       "    </tr>\n",
       "    <tr>\n",
       "      <th>2</th>\n",
       "      <td>Friday Night: Partly cloudy, with a low around...</td>\n",
       "      <td>FridayNight</td>\n",
       "      <td>Partly Cloudy</td>\n",
       "      <td>Low: 47 °F</td>\n",
       "    </tr>\n",
       "    <tr>\n",
       "      <th>3</th>\n",
       "      <td>Saturday: Partly sunny, with a high near 57. N...</td>\n",
       "      <td>Saturday</td>\n",
       "      <td>Partly Sunny</td>\n",
       "      <td>High: 57 °F</td>\n",
       "    </tr>\n",
       "    <tr>\n",
       "      <th>4</th>\n",
       "      <td>Saturday Night: Partly cloudy, with a low arou...</td>\n",
       "      <td>SaturdayNight</td>\n",
       "      <td>Partly Cloudy</td>\n",
       "      <td>Low: 48 °F</td>\n",
       "    </tr>\n",
       "    <tr>\n",
       "      <th>5</th>\n",
       "      <td>Sunday: Mostly sunny, with a high near 59.</td>\n",
       "      <td>Sunday</td>\n",
       "      <td>Mostly Sunny</td>\n",
       "      <td>High: 59 °F</td>\n",
       "    </tr>\n",
       "    <tr>\n",
       "      <th>6</th>\n",
       "      <td>Sunday Night: Partly cloudy, with a low around...</td>\n",
       "      <td>SundayNight</td>\n",
       "      <td>Partly Cloudy</td>\n",
       "      <td>Low: 49 °F</td>\n",
       "    </tr>\n",
       "    <tr>\n",
       "      <th>7</th>\n",
       "      <td>Monday: Partly sunny, with a high near 60.</td>\n",
       "      <td>Monday</td>\n",
       "      <td>Partly Sunny</td>\n",
       "      <td>High: 60 °F</td>\n",
       "    </tr>\n",
       "    <tr>\n",
       "      <th>8</th>\n",
       "      <td>Monday Night: Mostly cloudy, with a low around...</td>\n",
       "      <td>MondayNight</td>\n",
       "      <td>Mostly Cloudy</td>\n",
       "      <td>Low: 51 °F</td>\n",
       "    </tr>\n",
       "  </tbody>\n",
       "</table>\n",
       "</div>"
      ],
      "text/plain": [
       "                                         description         period  \\\n",
       "0  Overnight: Mostly cloudy, with a low around 47...      Overnight   \n",
       "1  Friday: Mostly sunny, with a high near 55. Cal...         Friday   \n",
       "2  Friday Night: Partly cloudy, with a low around...    FridayNight   \n",
       "3  Saturday: Partly sunny, with a high near 57. N...       Saturday   \n",
       "4  Saturday Night: Partly cloudy, with a low arou...  SaturdayNight   \n",
       "5         Sunday: Mostly sunny, with a high near 59.         Sunday   \n",
       "6  Sunday Night: Partly cloudy, with a low around...    SundayNight   \n",
       "7         Monday: Partly sunny, with a high near 60.         Monday   \n",
       "8  Monday Night: Mostly cloudy, with a low around...    MondayNight   \n",
       "\n",
       "      short_desc  temperature  \n",
       "0  Mostly Cloudy   Low: 47 °F  \n",
       "1   Mostly Sunny  High: 55 °F  \n",
       "2  Partly Cloudy   Low: 47 °F  \n",
       "3   Partly Sunny  High: 57 °F  \n",
       "4  Partly Cloudy   Low: 48 °F  \n",
       "5   Mostly Sunny  High: 59 °F  \n",
       "6  Partly Cloudy   Low: 49 °F  \n",
       "7   Partly Sunny  High: 60 °F  \n",
       "8  Mostly Cloudy   Low: 51 °F  "
      ]
     },
     "execution_count": 15,
     "metadata": {},
     "output_type": "execute_result"
    }
   ],
   "source": [
    "forecast = pd.DataFrame({'period' : periods, 'short_desc': short_desc, 'temperature': temp, \"description\": img_desc})\n",
    "forecast"
   ]
  },
  {
   "cell_type": "code",
   "execution_count": 16,
   "metadata": {
    "collapsed": true
   },
   "outputs": [],
   "source": [
    "forecast.to_csv('info1.csv')"
   ]
  },
  {
   "cell_type": "code",
   "execution_count": 17,
   "metadata": {
    "collapsed": true
   },
   "outputs": [],
   "source": [
    "x = pd.read_csv('info1.csv',encoding = \"ISO-8859-1\")\n",
    "x.drop('Unnamed: 0', axis =1, inplace = True)\n",
    "x.to_csv('info.csv')"
   ]
  },
  {
   "cell_type": "code",
   "execution_count": null,
   "metadata": {
    "collapsed": true
   },
   "outputs": [],
   "source": []
  }
 ],
 "metadata": {
  "kernelspec": {
   "display_name": "Python 3",
   "language": "python",
   "name": "python3"
  },
  "language_info": {
   "codemirror_mode": {
    "name": "ipython",
    "version": 3
   },
   "file_extension": ".py",
   "mimetype": "text/x-python",
   "name": "python",
   "nbconvert_exporter": "python",
   "pygments_lexer": "ipython3",
   "version": "3.6.2"
  }
 },
 "nbformat": 4,
 "nbformat_minor": 2
}

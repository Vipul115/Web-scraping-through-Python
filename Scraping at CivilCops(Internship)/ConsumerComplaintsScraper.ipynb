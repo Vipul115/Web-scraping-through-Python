{
 "cells": [
  {
   "cell_type": "code",
   "execution_count": null,
   "metadata": {},
   "outputs": [],
   "source": [
    "from bs4 import BeautifulSoup\n",
    "import requests\n",
    "import pandas as pd\n",
    "\n",
    "search_keyword = input(\"Enter class of complaints you want to scrape:\")\n",
    "keyword_label = input(\"Enter the label to be assigned:\")\n",
    "\n",
    "data = []\n",
    "\n",
    "page = requests.get('https://www.consumercomplaints.in/?search=' + str(search_keyword))\n",
    "soup = BeautifulSoup(page.content,'html.parser')\n",
    "soup = soup.find_all('ul')\n",
    "total_pages = soup[0].find_all('a')[-2].text\n",
    "\n",
    "for i in range(int(total_pages)):\n",
    "    page = requests.get('https://www.consumercomplaints.in/?search=' + search_keyword + '&sort-type=relevance&page=' + str(i+1))\n",
    "    soup = BeautifulSoup(page.content,'html.parser')\n",
    "    soup = soup.find_all(class_ = 'complaint')\n",
    "    if soup is None:\n",
    "        print('url error')\n",
    "        break\n",
    "    report_links = []\n",
    "\n",
    "    for report in soup:\n",
    "        temp = report.find_all('a')\n",
    "        for temps in temp:\n",
    "            url = 'https://www.consumercomplaints.in' + temps.attrs['href']\n",
    "            report_links.append(url)\n",
    "            reportpage = requests.get(url)\n",
    "            reportsoup = BeautifulSoup(reportpage.content,'html.parser')\n",
    "            reportsoup = reportsoup.find(class_ = 'compl-text')\n",
    "            complaint = reportsoup.find('div').text\n",
    "            d = {'complaint': complaint, 'label':keyword_label}\n",
    "            data.append(d)\n",
    "    print(i+1)\n",
    "\n",
    "len(data)"
   ]
  }
 ],
 "metadata": {
  "kernelspec": {
   "display_name": "Python 3",
   "language": "python",
   "name": "python3"
  },
  "language_info": {
   "codemirror_mode": {
    "name": "ipython",
    "version": 3
   },
   "file_extension": ".py",
   "mimetype": "text/x-python",
   "name": "python",
   "nbconvert_exporter": "python",
   "pygments_lexer": "ipython3",
   "version": "3.6.3"
  }
 },
 "nbformat": 4,
 "nbformat_minor": 2
}

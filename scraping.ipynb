{
 "cells": [
  {
   "cell_type": "code",
   "execution_count": 142,
   "metadata": {
    "collapsed": true
   },
   "outputs": [],
   "source": [
    "from bs4 import BeautifulSoup\n",
    "import requests\n",
    "import pandas as pd\n",
    "import numpy as np"
   ]
  },
  {
   "cell_type": "code",
   "execution_count": 43,
   "metadata": {},
   "outputs": [
    {
     "data": {
      "text/plain": [
       "<Response [200]>"
      ]
     },
     "execution_count": 43,
     "metadata": {},
     "output_type": "execute_result"
    }
   ],
   "source": [
    "page = requests.get(\"http://forecast.weather.gov/MapClick.php?lat=37.7772&lon=-122.4168\")\n"
   ]
  },
  {
   "cell_type": "code",
   "execution_count": 161,
   "metadata": {
    "scrolled": false
   },
   "outputs": [],
   "source": [
    "soup = BeautifulSoup(page.content,'html.parser')\n",
    "seven_day = soup.find(id = 'seven-day-forecast')\n",
    "tombstone = seven_day.find_all(class_ ='tombstone-container')\n",
    "\n",
    "\n"
   ]
  },
  {
   "cell_type": "code",
   "execution_count": 163,
   "metadata": {},
   "outputs": [
    {
     "name": "stdout",
     "output_type": "stream",
     "text": [
      "Overnight Mostly Cloudy Low: 50 °F \n",
      " Overnight: Mostly cloudy, with a low around 50. North northwest wind around 6 mph. \n"
     ]
    }
   ],
   "source": [
    "\n",
    "overnight = tombstone[1].find('p',{'class':'period-name'}).get_text()\n",
    "shortdesc = tombstone[1].find(class_ = 'short-desc').get_text()\n",
    "temp = tombstone[1].find(class_ = 'temp temp-low').get_text()\n",
    "\n",
    "img = tombstone[1].find(\"img\")['title']\n",
    "\n",
    "print(overnight,shortdesc,temp, \"\\n\", img)"
   ]
  },
  {
   "cell_type": "code",
   "execution_count": 164,
   "metadata": {},
   "outputs": [
    {
     "data": {
      "text/plain": [
       "[<p class=\"period-name\">NOW until<br/>4:00pm Tue</p>,\n",
       " <p class=\"period-name\">Overnight<br/><br/></p>,\n",
       " <p class=\"period-name\">M.L.King<br/>Day</p>,\n",
       " <p class=\"period-name\">Monday<br/>Night</p>,\n",
       " <p class=\"period-name\">Tuesday<br/><br/></p>,\n",
       " <p class=\"period-name\">Tuesday<br/>Night</p>,\n",
       " <p class=\"period-name\">Wednesday<br/><br/></p>,\n",
       " <p class=\"period-name\">Wednesday<br/>Night</p>,\n",
       " <p class=\"period-name\">Thursday<br/><br/></p>]"
      ]
     },
     "execution_count": 164,
     "metadata": {},
     "output_type": "execute_result"
    }
   ],
   "source": [
    "# To distinguish oen tab from other if it ahs multiple attributes like class/id/etc\n",
    "# seven_day.find_all('p',{'class':'period-name','extra':'attributes'})\n",
    "seven_day.find_all('p',{'class':'period-name'})"
   ]
  },
  {
   "cell_type": "code",
   "execution_count": 192,
   "metadata": {},
   "outputs": [
    {
     "name": "stdout",
     "output_type": "stream",
     "text": [
      "['High Surf Advisory', 'Mostly Cloudy', 'Mostly Cloudythen ChanceRain', 'Rain Likely', 'ChanceShowers thenPartly Sunny', 'Partly Cloudy', 'Partly Sunny', 'Slight ChanceRain', 'Rain Likely']\n",
      "['Low: 50 °F', 'High: 59 °F', 'Low: 53 °F', 'High: 59 °F', 'Low: 50 °F', 'High: 58 °F', 'Low: 52 °F', 'High: 56 °F']\n",
      "['', 'Overnight: Mostly cloudy, with a low around 50. North northwest wind around 6 mph. ', 'M.L.King Day: A 30 percent chance of rain after 4pm.  Mostly cloudy, with a high near 59. Light and variable wind becoming southwest 5 to 10 mph in the afternoon. ', 'Monday Night: Rain likely, mainly after 10pm.  Mostly cloudy, with a low around 53. Southwest wind 5 to 8 mph.  Chance of precipitation is 70%. New precipitation amounts of less than a tenth of an inch possible. ', 'Tuesday: A 30 percent chance of showers before 10am.  Partly sunny, with a high near 59. West wind 5 to 9 mph becoming north in the morning.  New precipitation amounts of less than a tenth of an inch possible. ', 'Tuesday Night: Partly cloudy, with a low around 50. West wind 5 to 9 mph becoming north northeast in the evening. ', 'Wednesday: Partly sunny, with a high near 58.', 'Wednesday Night: A 20 percent chance of rain after 10pm.  Mostly cloudy, with a low around 52.', 'Thursday: Rain likely.  Cloudy, with a high near 56.']\n",
      "['NOW until4:00pm Tue', 'Overnight', 'M.L.KingDay', 'MondayNight', 'Tuesday', 'TuesdayNight', 'Wednesday', 'WednesdayNight', 'Thursday']\n"
     ]
    },
    {
     "data": {
      "text/plain": [
       "list"
      ]
     },
     "execution_count": 192,
     "metadata": {},
     "output_type": "execute_result"
    }
   ],
   "source": [
    "periods = seven_day.select(\".period-name\")\n",
    "periods = [days.get_text() for days in periods]\n",
    "short_desc = [sd.get_text() for sd in seven_day.select('.short-desc')]\n",
    "temp = [t.get_text() for t in seven_day.select('.temp')]\n",
    "img_desc = [im['title'] for im in seven_day.select('img')]\n",
    "print(short_desc)\n",
    "print(temp)\n",
    "print(img_desc)\n",
    "print(periods)\n",
    "type(temp)"
   ]
  },
  {
   "cell_type": "code",
   "execution_count": 193,
   "metadata": {},
   "outputs": [
    {
     "name": "stdout",
     "output_type": "stream",
     "text": [
      "9 9 9 9\n"
     ]
    }
   ],
   "source": [
    "# Temperature values are only 8. There is no value of temperature for 1st row  on the webpage\n",
    "temp.insert(0,\" \")"
   ]
  },
  {
   "cell_type": "code",
   "execution_count": 194,
   "metadata": {
    "scrolled": true
   },
   "outputs": [
    {
     "data": {
      "text/html": [
       "<div>\n",
       "<style>\n",
       "    .dataframe thead tr:only-child th {\n",
       "        text-align: right;\n",
       "    }\n",
       "\n",
       "    .dataframe thead th {\n",
       "        text-align: left;\n",
       "    }\n",
       "\n",
       "    .dataframe tbody tr th {\n",
       "        vertical-align: top;\n",
       "    }\n",
       "</style>\n",
       "<table border=\"1\" class=\"dataframe\">\n",
       "  <thead>\n",
       "    <tr style=\"text-align: right;\">\n",
       "      <th></th>\n",
       "      <th>description</th>\n",
       "      <th>period</th>\n",
       "      <th>short_desc</th>\n",
       "      <th>temperature</th>\n",
       "    </tr>\n",
       "  </thead>\n",
       "  <tbody>\n",
       "    <tr>\n",
       "      <th>0</th>\n",
       "      <td></td>\n",
       "      <td>NOW until4:00pm Tue</td>\n",
       "      <td>High Surf Advisory</td>\n",
       "      <td></td>\n",
       "    </tr>\n",
       "    <tr>\n",
       "      <th>1</th>\n",
       "      <td>Overnight: Mostly cloudy, with a low around 50...</td>\n",
       "      <td>Overnight</td>\n",
       "      <td>Mostly Cloudy</td>\n",
       "      <td>Low: 50 °F</td>\n",
       "    </tr>\n",
       "    <tr>\n",
       "      <th>2</th>\n",
       "      <td>M.L.King Day: A 30 percent chance of rain afte...</td>\n",
       "      <td>M.L.KingDay</td>\n",
       "      <td>Mostly Cloudythen ChanceRain</td>\n",
       "      <td>High: 59 °F</td>\n",
       "    </tr>\n",
       "    <tr>\n",
       "      <th>3</th>\n",
       "      <td>Monday Night: Rain likely, mainly after 10pm. ...</td>\n",
       "      <td>MondayNight</td>\n",
       "      <td>Rain Likely</td>\n",
       "      <td>Low: 53 °F</td>\n",
       "    </tr>\n",
       "    <tr>\n",
       "      <th>4</th>\n",
       "      <td>Tuesday: A 30 percent chance of showers before...</td>\n",
       "      <td>Tuesday</td>\n",
       "      <td>ChanceShowers thenPartly Sunny</td>\n",
       "      <td>High: 59 °F</td>\n",
       "    </tr>\n",
       "    <tr>\n",
       "      <th>5</th>\n",
       "      <td>Tuesday Night: Partly cloudy, with a low aroun...</td>\n",
       "      <td>TuesdayNight</td>\n",
       "      <td>Partly Cloudy</td>\n",
       "      <td>Low: 50 °F</td>\n",
       "    </tr>\n",
       "    <tr>\n",
       "      <th>6</th>\n",
       "      <td>Wednesday: Partly sunny, with a high near 58.</td>\n",
       "      <td>Wednesday</td>\n",
       "      <td>Partly Sunny</td>\n",
       "      <td>High: 58 °F</td>\n",
       "    </tr>\n",
       "    <tr>\n",
       "      <th>7</th>\n",
       "      <td>Wednesday Night: A 20 percent chance of rain a...</td>\n",
       "      <td>WednesdayNight</td>\n",
       "      <td>Slight ChanceRain</td>\n",
       "      <td>Low: 52 °F</td>\n",
       "    </tr>\n",
       "    <tr>\n",
       "      <th>8</th>\n",
       "      <td>Thursday: Rain likely.  Cloudy, with a high ne...</td>\n",
       "      <td>Thursday</td>\n",
       "      <td>Rain Likely</td>\n",
       "      <td>High: 56 °F</td>\n",
       "    </tr>\n",
       "  </tbody>\n",
       "</table>\n",
       "</div>"
      ],
      "text/plain": [
       "                                         description               period  \\\n",
       "0                                                     NOW until4:00pm Tue   \n",
       "1  Overnight: Mostly cloudy, with a low around 50...            Overnight   \n",
       "2  M.L.King Day: A 30 percent chance of rain afte...          M.L.KingDay   \n",
       "3  Monday Night: Rain likely, mainly after 10pm. ...          MondayNight   \n",
       "4  Tuesday: A 30 percent chance of showers before...              Tuesday   \n",
       "5  Tuesday Night: Partly cloudy, with a low aroun...         TuesdayNight   \n",
       "6      Wednesday: Partly sunny, with a high near 58.            Wednesday   \n",
       "7  Wednesday Night: A 20 percent chance of rain a...       WednesdayNight   \n",
       "8  Thursday: Rain likely.  Cloudy, with a high ne...             Thursday   \n",
       "\n",
       "                       short_desc  temperature  \n",
       "0              High Surf Advisory               \n",
       "1                   Mostly Cloudy   Low: 50 °F  \n",
       "2    Mostly Cloudythen ChanceRain  High: 59 °F  \n",
       "3                     Rain Likely   Low: 53 °F  \n",
       "4  ChanceShowers thenPartly Sunny  High: 59 °F  \n",
       "5                   Partly Cloudy   Low: 50 °F  \n",
       "6                    Partly Sunny  High: 58 °F  \n",
       "7               Slight ChanceRain   Low: 52 °F  \n",
       "8                     Rain Likely  High: 56 °F  "
      ]
     },
     "execution_count": 194,
     "metadata": {},
     "output_type": "execute_result"
    }
   ],
   "source": [
    "forecast = pd.DataFrame({'period' : periods, 'short_desc': short_desc, 'temperature': temp, \"description\": img_desc})\n",
    "forecast"
   ]
  },
  {
   "cell_type": "code",
   "execution_count": null,
   "metadata": {
    "collapsed": true
   },
   "outputs": [],
   "source": []
  }
 ],
 "metadata": {
  "kernelspec": {
   "display_name": "Python 3",
   "language": "python",
   "name": "python3"
  },
  "language_info": {
   "codemirror_mode": {
    "name": "ipython",
    "version": 3
   },
   "file_extension": ".py",
   "mimetype": "text/x-python",
   "name": "python",
   "nbconvert_exporter": "python",
   "pygments_lexer": "ipython3",
   "version": "3.6.2"
  }
 },
 "nbformat": 4,
 "nbformat_minor": 2
}
